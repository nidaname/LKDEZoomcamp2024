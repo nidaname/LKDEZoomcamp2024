{
 "cells": [
  {
   "cell_type": "code",
   "execution_count": 1,
   "id": "57867df6-274d-409d-bd25-bf647d487512",
   "metadata": {},
   "outputs": [],
   "source": [
    "import pyspark\n",
    "from pyspark.sql import SparkSession\n",
    "from pyspark.conf import SparkConf\n",
    "from pyspark.context import SparkContext\n",
    "from pyspark.sql import functions as F"
   ]
  },
  {
   "cell_type": "markdown",
   "id": "74c93841-f0d6-49ef-9b89-272cb459a45e",
   "metadata": {},
   "source": [
    "question 1"
   ]
  },
  {
   "cell_type": "code",
   "execution_count": 25,
   "id": "fbc8232f-3e5a-42bd-be86-e3993d15f703",
   "metadata": {},
   "outputs": [
    {
     "data": {
      "text/plain": [
       "<module 'pyspark.version' from '/workspaces/LKDEZoomcamp2024/spark/spark-3.3.2-bin-hadoop3/python/pyspark/version.py'>"
      ]
     },
     "execution_count": 25,
     "metadata": {},
     "output_type": "execute_result"
    }
   ],
   "source": [
    "pyspark.version"
   ]
  },
  {
   "cell_type": "code",
   "execution_count": 2,
   "id": "77a39944-e06e-4bac-a994-a09aef6287d1",
   "metadata": {},
   "outputs": [],
   "source": [
    "credentials_location = '/workspaces/LKDEZoomcamp2024/4_datawarehouse/onyx-descent-417702-c2fbbb866ff5-magedezoomcamp.json'\n",
    "\n",
    "conf = SparkConf() \\\n",
    "    .setMaster('local[*]') \\\n",
    "    .setAppName('test') \\\n",
    "    .set(\"spark.jars\", \"/workspaces/LKDEZoomcamp2024/spark/gcs-connector-hadoop3-latest.jar\") \\\n",
    "    .set(\"spark.hadoop.google.cloud.auth.service.account.enable\", \"true\") \\\n",
    "    .set(\"spark.hadoop.google.cloud.auth.service.account.json.keyfile\", credentials_location)"
   ]
  },
  {
   "cell_type": "code",
   "execution_count": 3,
   "id": "20634ff7-58eb-48dc-9624-6bc9c5136f08",
   "metadata": {},
   "outputs": [
    {
     "name": "stdout",
     "output_type": "stream",
     "text": [
      "24/04/18 07:19:55 WARN Utils: Your hostname, codespaces-d61839 resolves to a loopback address: 127.0.0.1; using 172.16.5.4 instead (on interface eth0)\n",
      "24/04/18 07:19:55 WARN Utils: Set SPARK_LOCAL_IP if you need to bind to another address\n",
      "24/04/18 07:19:56 WARN NativeCodeLoader: Unable to load native-hadoop library for your platform... using builtin-java classes where applicable\n"
     ]
    },
    {
     "name": "stderr",
     "output_type": "stream",
     "text": [
      "Setting default log level to \"WARN\".\n",
      "To adjust logging level use sc.setLogLevel(newLevel). For SparkR, use setLogLevel(newLevel).\n"
     ]
    }
   ],
   "source": [
    "sc = SparkContext(conf=conf)\n",
    "\n",
    "hadoop_conf = sc._jsc.hadoopConfiguration()\n",
    "\n",
    "hadoop_conf.set(\"fs.AbstractFileSystem.gs.impl\",  \"com.google.cloud.hadoop.fs.gcs.GoogleHadoopFS\")\n",
    "hadoop_conf.set(\"fs.gs.impl\", \"com.google.cloud.hadoop.fs.gcs.GoogleHadoopFileSystem\")\n",
    "hadoop_conf.set(\"fs.gs.auth.service.account.json.keyfile\", credentials_location)\n",
    "hadoop_conf.set(\"fs.gs.auth.service.account.enable\", \"true\")"
   ]
  },
  {
   "cell_type": "code",
   "execution_count": 4,
   "id": "d4c6b60c-9d69-4785-8acb-0c88a08a947a",
   "metadata": {},
   "outputs": [],
   "source": [
    "spark = SparkSession.builder \\\n",
    "    .config(conf=sc.getConf()) \\\n",
    "    .getOrCreate()"
   ]
  },
  {
   "cell_type": "code",
   "execution_count": 5,
   "id": "f646233c-22fb-4169-84c4-761dbc48b056",
   "metadata": {},
   "outputs": [
    {
     "name": "stderr",
     "output_type": "stream",
     "text": [
      "                                                                                \r"
     ]
    }
   ],
   "source": [
    "df_fhv = spark.read \\\n",
    "    .option(\"InferSchema\", \"true\") \\\n",
    "    .parquet('gs://airflow-lkdezoomcamp/raw/fhv_taxi/fhv_tripdata_2019-10.parquet')"
   ]
  },
  {
   "cell_type": "code",
   "execution_count": 7,
   "id": "59ab65fa-0127-4153-ab4a-0842f92e98a4",
   "metadata": {},
   "outputs": [
    {
     "name": "stdout",
     "output_type": "stream",
     "text": [
      "root\n",
      " |-- dispatching_base_num: string (nullable = true)\n",
      " |-- pickup_datetime: timestamp (nullable = true)\n",
      " |-- dropOff_datetime: timestamp (nullable = true)\n",
      " |-- PUlocationID: long (nullable = true)\n",
      " |-- DOlocationID: long (nullable = true)\n",
      " |-- SR_Flag: integer (nullable = true)\n",
      " |-- Affiliated_base_number: string (nullable = true)\n",
      "\n"
     ]
    }
   ],
   "source": [
    "df_fhv.printSchema()"
   ]
  },
  {
   "cell_type": "markdown",
   "id": "ed506035-4c70-4101-939e-243371979075",
   "metadata": {},
   "source": [
    "question 2\n",
    "\n",
    "go to bucket and look at the size\n",
    "should be 6.2mb"
   ]
  },
  {
   "cell_type": "code",
   "execution_count": 8,
   "id": "fbb7157a",
   "metadata": {},
   "outputs": [
    {
     "name": "stderr",
     "output_type": "stream",
     "text": [
      "                                                                                \r"
     ]
    }
   ],
   "source": [
    "df_fhv.repartition(6) \\\n",
    "    .write.parquet('gs://airflow-lkdezoomcamp/pq/fhv/2019_10/', mode='overwrite')"
   ]
  },
  {
   "cell_type": "code",
   "execution_count": 9,
   "id": "7086276f",
   "metadata": {},
   "outputs": [],
   "source": [
    "df_fhv_2 = df_fhv \\\n",
    "            .withColumn('pickup_date', F.to_date(df_fhv.pickup_datetime)) \\\n",
    "            .withColumn('dropoff_date', F.to_date(df_fhv.dropOff_datetime)) \\\n",
    "            .withColumn('trip_duration_hours', (F.col('dropOff_datetime').cast('long') - F.col('pickup_datetime').cast('long'))/3600)"
   ]
  },
  {
   "cell_type": "markdown",
   "id": "09a3ffaf-115a-44de-a674-7364d8815fe3",
   "metadata": {},
   "source": [
    "question 3"
   ]
  },
  {
   "cell_type": "code",
   "execution_count": 11,
   "id": "be922a09",
   "metadata": {
    "scrolled": true
   },
   "outputs": [
    {
     "name": "stderr",
     "output_type": "stream",
     "text": [
      "                                                                                \r"
     ]
    },
    {
     "data": {
      "text/plain": [
       "62610"
      ]
     },
     "execution_count": 11,
     "metadata": {},
     "output_type": "execute_result"
    }
   ],
   "source": [
    "df_fhv_2.filter(df_fhv_2.pickup_date == \"2019-10-15\").count()"
   ]
  },
  {
   "cell_type": "markdown",
   "id": "bc6b4bef-fa7b-4ab6-b976-3a446d976448",
   "metadata": {},
   "source": [
    "question 4"
   ]
  },
  {
   "cell_type": "code",
   "execution_count": 15,
   "id": "601685f9",
   "metadata": {
    "scrolled": true
   },
   "outputs": [
    {
     "name": "stderr",
     "output_type": "stream",
     "text": [
      "[Stage 9:>                                                          (0 + 2) / 2]\r"
     ]
    },
    {
     "name": "stdout",
     "output_type": "stream",
     "text": [
      "+------------------------+\n",
      "|max(trip_duration_hours)|\n",
      "+------------------------+\n",
      "|                631152.5|\n",
      "+------------------------+\n",
      "\n"
     ]
    },
    {
     "name": "stderr",
     "output_type": "stream",
     "text": [
      "                                                                                \r"
     ]
    }
   ],
   "source": [
    "df_fhv_2.select(F.max(df_fhv_2.trip_duration_hours)).show()"
   ]
  },
  {
   "cell_type": "markdown",
   "id": "9f1d6892-3124-4913-8acc-3b4542c76eeb",
   "metadata": {},
   "source": [
    "question 6"
   ]
  },
  {
   "cell_type": "code",
   "execution_count": 19,
   "id": "c6f1e667",
   "metadata": {},
   "outputs": [],
   "source": [
    "df_fhv_2.createOrReplaceTempView('fhv')"
   ]
  },
  {
   "cell_type": "code",
   "execution_count": 16,
   "id": "a13fde68",
   "metadata": {},
   "outputs": [],
   "source": [
    "zone_df = spark.read \\\n",
    "        .option(\"InferSchema\", \"true\") \\\n",
    "        .parquet('gs://airflow-lkdezoomcamp/raw/zones/taxi_zone_lookup.parquet')"
   ]
  },
  {
   "cell_type": "code",
   "execution_count": 20,
   "id": "8ff7db75",
   "metadata": {},
   "outputs": [],
   "source": [
    "zone_df.createOrReplaceTempView('zone')"
   ]
  },
  {
   "cell_type": "code",
   "execution_count": 21,
   "id": "1d784338",
   "metadata": {},
   "outputs": [],
   "source": [
    "df_fhv_least_pickup = spark.sql(\"\"\"\n",
    "SELECT \n",
    "    zone.Zone,\n",
    "    COUNT(1) AS number_records\n",
    "FROM fhv\n",
    "LEFT JOIN zone\n",
    "       ON fhv.PULocationID = zone.LocationID\n",
    "GROUP BY 1\n",
    "ORDER BY 2\n",
    "LIMIT 1\n",
    "\"\"\")"
   ]
  },
  {
   "cell_type": "code",
   "execution_count": 22,
   "id": "7091bfe5",
   "metadata": {},
   "outputs": [
    {
     "name": "stderr",
     "output_type": "stream",
     "text": [
      "[Stage 15:=============================>                            (1 + 1) / 2]\r"
     ]
    },
    {
     "name": "stdout",
     "output_type": "stream",
     "text": [
      "+-----------+--------------+\n",
      "|       Zone|number_records|\n",
      "+-----------+--------------+\n",
      "|Jamaica Bay|             1|\n",
      "+-----------+--------------+\n",
      "\n"
     ]
    },
    {
     "name": "stderr",
     "output_type": "stream",
     "text": [
      "                                                                                \r"
     ]
    }
   ],
   "source": [
    "df_fhv_least_pickup.show()"
   ]
  },
  {
   "cell_type": "code",
   "execution_count": null,
   "id": "9c4a5a4d-3b14-44e8-903e-31d60e870b20",
   "metadata": {},
   "outputs": [],
   "source": []
  }
 ],
 "metadata": {
  "kernelspec": {
   "display_name": "Python 3 (ipykernel)",
   "language": "python",
   "name": "python3"
  },
  "language_info": {
   "codemirror_mode": {
    "name": "ipython",
    "version": 3
   },
   "file_extension": ".py",
   "mimetype": "text/x-python",
   "name": "python",
   "nbconvert_exporter": "python",
   "pygments_lexer": "ipython3",
   "version": "3.10.13"
  }
 },
 "nbformat": 4,
 "nbformat_minor": 5
}
